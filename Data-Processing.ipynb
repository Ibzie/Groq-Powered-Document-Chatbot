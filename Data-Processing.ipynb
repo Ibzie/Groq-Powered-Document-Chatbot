{
 "cells": [
  {
   "cell_type": "code",
   "execution_count": null,
   "id": "initial_id",
   "metadata": {
    "collapsed": true
   },
   "outputs": [],
   "source": [
    "from langchain.text_splitter import CharacterTextSplitter\n",
    "from langchain.document_loaders import AsyncChromiumLoader\n",
    "from langchain.document_transformers import Html2TextTransformer\n",
    "from langchain.vectorstores import FAISS\n",
    "import nest_asyncio"
   ]
  },
  {
   "cell_type": "code",
   "outputs": [],
   "source": [
    "import os\n",
    "import PyPDF2\n",
    "\n",
    "def extract_text_from_pdf(pdf_file_path):\n",
    "    with open(pdf_file_path, 'rb') as f:\n",
    "        reader = PyPDF2.PdfFileReader(f)\n",
    "        text = ''\n",
    "        for page_num in range(reader.numPages):\n",
    "            text += reader.getPage(page_num).extractText()\n",
    "    return text\n",
    "\n",
    "def main():\n",
    "    # Directory containing PDF files\n",
    "    pdf_folder = 'data'\n",
    "\n",
    "    # Output file path\n",
    "    output_file = 'output.txt'\n",
    "\n",
    "    # Iterate over PDF files in the directory\n",
    "    with open(output_file, 'a', encoding='utf-8') as f:\n",
    "        for file_name in os.listdir(pdf_folder):\n",
    "            if file_name.endswith('.pdf'):\n",
    "                pdf_path = os.path.join(pdf_folder, file_name)\n",
    "                text = extract_text_from_pdf(pdf_path)\n",
    "                f.write(text + '\\n\\n')\n",
    "\n",
    "    print(\"Text extracted from PDFs and saved to\", output_file)"
   ],
   "metadata": {
    "collapsed": false
   },
   "id": "6a4fe1044c6a4b92"
  }
 ],
 "metadata": {
  "kernelspec": {
   "display_name": "Python 3",
   "language": "python",
   "name": "python3"
  },
  "language_info": {
   "codemirror_mode": {
    "name": "ipython",
    "version": 2
   },
   "file_extension": ".py",
   "mimetype": "text/x-python",
   "name": "python",
   "nbconvert_exporter": "python",
   "pygments_lexer": "ipython2",
   "version": "2.7.6"
  }
 },
 "nbformat": 4,
 "nbformat_minor": 5
}
