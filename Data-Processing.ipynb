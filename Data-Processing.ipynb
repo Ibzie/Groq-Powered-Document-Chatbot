{
 "cells": [
  {
   "cell_type": "code",
   "execution_count": null,
   "id": "initial_id",
   "metadata": {
    "collapsed": true
   },
   "outputs": [],
   "source": [
    "from langchain.text_splitter import CharacterTextSplitter\n",
    "from langchain.document_loaders import AsyncChromiumLoader\n",
    "from langchain.document_transformers import Html2TextTransformer\n",
    "from langchain.vectorstores import FAISS\n",
    "import nest_asyncio"
   ]
  },
  {
   "cell_type": "code",
   "outputs": [],
   "source": [
    "nest_asyncio.apply()\n",
    "\n",
    "#!pip install PyMuPDF\n",
    "import fitz\n",
    "\n",
    "def extract_text_from_pdf(pdf_path):\n",
    "    text = \"\"\n",
    "    with fitz.open(pdf_path) as pdf_document:\n",
    "        for page_number in range(len(pdf_document)):\n",
    "            page = pdf_document.load_page(page_number)\n",
    "            text += page.get_text()\n",
    "    return text\n",
    "\n",
    "pdf_path = \"Down & Out in Waterdeep A Level 0 Adventure.pdf\"\n",
    "plain_text = extract_text_from_pdf(pdf_path)\n",
    "print(plain_text)"
   ],
   "metadata": {
    "collapsed": false
   },
   "id": "6a4fe1044c6a4b92"
  }
 ],
 "metadata": {
  "kernelspec": {
   "display_name": "Python 3",
   "language": "python",
   "name": "python3"
  },
  "language_info": {
   "codemirror_mode": {
    "name": "ipython",
    "version": 2
   },
   "file_extension": ".py",
   "mimetype": "text/x-python",
   "name": "python",
   "nbconvert_exporter": "python",
   "pygments_lexer": "ipython2",
   "version": "2.7.6"
  }
 },
 "nbformat": 4,
 "nbformat_minor": 5
}
